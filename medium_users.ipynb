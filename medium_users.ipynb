{
 "cells": [
  {
   "cell_type": "code",
   "execution_count": 1,
   "id": "6cd0f0e3",
   "metadata": {},
   "outputs": [],
   "source": [
    "#importing necessary libraries\n",
    "import pandas as pd\n",
    "import numpy as np\n",
    "import csv"
   ]
  },
  {
   "cell_type": "code",
   "execution_count": 2,
   "id": "3d50ebd7",
   "metadata": {},
   "outputs": [],
   "source": [
    "medium = pd.read_csv(\"medium_Blockchain.csv\")"
   ]
  },
  {
   "cell_type": "code",
   "execution_count": 3,
   "id": "77e6de4b",
   "metadata": {},
   "outputs": [
    {
     "data": {
      "text/html": [
       "<div>\n",
       "<style scoped>\n",
       "    .dataframe tbody tr th:only-of-type {\n",
       "        vertical-align: middle;\n",
       "    }\n",
       "\n",
       "    .dataframe tbody tr th {\n",
       "        vertical-align: top;\n",
       "    }\n",
       "\n",
       "    .dataframe thead th {\n",
       "        text-align: right;\n",
       "    }\n",
       "</style>\n",
       "<table border=\"1\" class=\"dataframe\">\n",
       "  <thead>\n",
       "    <tr style=\"text-align: right;\">\n",
       "      <th></th>\n",
       "      <th>Title</th>\n",
       "      <th>Author</th>\n",
       "      <th>Publication</th>\n",
       "      <th>Year</th>\n",
       "      <th>Month</th>\n",
       "      <th>Day</th>\n",
       "      <th>Tag</th>\n",
       "      <th>Reading_Time</th>\n",
       "      <th>Claps</th>\n",
       "      <th>url</th>\n",
       "      <th>Author_url</th>\n",
       "    </tr>\n",
       "  </thead>\n",
       "  <tbody>\n",
       "    <tr>\n",
       "      <th>0</th>\n",
       "      <td>Avalanche at 3 months</td>\n",
       "      <td>Emin G n Sirer</td>\n",
       "      <td>NaN</td>\n",
       "      <td>2021</td>\n",
       "      <td>1</td>\n",
       "      <td>1</td>\n",
       "      <td>Blockchain</td>\n",
       "      <td>7</td>\n",
       "      <td>3.6K</td>\n",
       "      <td>https://medium.com/@el33th4x0r/avalanche-at-3-...</td>\n",
       "      <td>https://medium.com/@el33th4x0r?source=tag_arch...</td>\n",
       "    </tr>\n",
       "    <tr>\n",
       "      <th>1</th>\n",
       "      <td>COTI 2020 in Review</td>\n",
       "      <td>COTI</td>\n",
       "      <td>COTI</td>\n",
       "      <td>2021</td>\n",
       "      <td>1</td>\n",
       "      <td>1</td>\n",
       "      <td>Blockchain</td>\n",
       "      <td>10</td>\n",
       "      <td>489</td>\n",
       "      <td>https://medium.com/cotinetwork/coti-2020-in-re...</td>\n",
       "      <td>https://medium.com/@cotinetwork?source=tag_arc...</td>\n",
       "    </tr>\n",
       "    <tr>\n",
       "      <th>2</th>\n",
       "      <td>Year In Review 2020</td>\n",
       "      <td>Solana</td>\n",
       "      <td>Solana</td>\n",
       "      <td>2021</td>\n",
       "      <td>1</td>\n",
       "      <td>1</td>\n",
       "      <td>Blockchain</td>\n",
       "      <td>5</td>\n",
       "      <td>342</td>\n",
       "      <td>https://medium.com/solana-labs/year-in-review-...</td>\n",
       "      <td>https://medium.com/@solanalabs?source=tag_arch...</td>\n",
       "    </tr>\n",
       "    <tr>\n",
       "      <th>3</th>\n",
       "      <td>The PackagePortal Whitepaper:</td>\n",
       "      <td>J.G.</td>\n",
       "      <td>PackagePortal</td>\n",
       "      <td>2021</td>\n",
       "      <td>1</td>\n",
       "      <td>1</td>\n",
       "      <td>Blockchain</td>\n",
       "      <td>17</td>\n",
       "      <td>120</td>\n",
       "      <td>https://medium.com/packageportal/the-packagepo...</td>\n",
       "      <td>https://medium.com/@lionslogistics?source=tag_...</td>\n",
       "    </tr>\n",
       "    <tr>\n",
       "      <th>4</th>\n",
       "      <td>A new chapter of Mask NetworkITO</td>\n",
       "      <td>Mask Network</td>\n",
       "      <td>NaN</td>\n",
       "      <td>2021</td>\n",
       "      <td>1</td>\n",
       "      <td>1</td>\n",
       "      <td>Blockchain</td>\n",
       "      <td>3</td>\n",
       "      <td>192</td>\n",
       "      <td>https://medium.com/@masknetwork/a-new-chapter-...</td>\n",
       "      <td>https://medium.com/@masknetwork?source=tag_arc...</td>\n",
       "    </tr>\n",
       "  </tbody>\n",
       "</table>\n",
       "</div>"
      ],
      "text/plain": [
       "                              Title          Author    Publication  Year  \\\n",
       "0             Avalanche at 3 months  Emin G n Sirer            NaN  2021   \n",
       "1               COTI 2020 in Review            COTI           COTI  2021   \n",
       "2               Year In Review 2020          Solana         Solana  2021   \n",
       "3     The PackagePortal Whitepaper:            J.G.  PackagePortal  2021   \n",
       "4  A new chapter of Mask NetworkITO    Mask Network            NaN  2021   \n",
       "\n",
       "   Month  Day         Tag  Reading_Time Claps  \\\n",
       "0      1    1  Blockchain             7  3.6K   \n",
       "1      1    1  Blockchain            10   489   \n",
       "2      1    1  Blockchain             5   342   \n",
       "3      1    1  Blockchain            17   120   \n",
       "4      1    1  Blockchain             3   192   \n",
       "\n",
       "                                                 url  \\\n",
       "0  https://medium.com/@el33th4x0r/avalanche-at-3-...   \n",
       "1  https://medium.com/cotinetwork/coti-2020-in-re...   \n",
       "2  https://medium.com/solana-labs/year-in-review-...   \n",
       "3  https://medium.com/packageportal/the-packagepo...   \n",
       "4  https://medium.com/@masknetwork/a-new-chapter-...   \n",
       "\n",
       "                                          Author_url  \n",
       "0  https://medium.com/@el33th4x0r?source=tag_arch...  \n",
       "1  https://medium.com/@cotinetwork?source=tag_arc...  \n",
       "2  https://medium.com/@solanalabs?source=tag_arch...  \n",
       "3  https://medium.com/@lionslogistics?source=tag_...  \n",
       "4  https://medium.com/@masknetwork?source=tag_arc...  "
      ]
     },
     "execution_count": 3,
     "metadata": {},
     "output_type": "execute_result"
    }
   ],
   "source": [
    "medium.head()"
   ]
  },
  {
   "cell_type": "code",
   "execution_count": 4,
   "id": "0b9f10d9",
   "metadata": {},
   "outputs": [
    {
     "name": "stdout",
     "output_type": "stream",
     "text": [
      "Number of Stories:  42483\n",
      "Number of Authors:  12043\n",
      "Number of Publications:  2642\n"
     ]
    }
   ],
   "source": [
    "print(\"Number of Stories: \", medium.shape[0])\n",
    "print(\"Number of Authors: \", medium.Author.value_counts().shape[0])\n",
    "print(\"Number of Publications: \", medium.Publication.value_counts().shape[0])"
   ]
  },
  {
   "cell_type": "code",
   "execution_count": 5,
   "id": "9c30f6dd",
   "metadata": {},
   "outputs": [
    {
     "name": "stdout",
     "output_type": "stream",
     "text": [
      "Top 5 Most Publishing Authors\n",
      "\n",
      "Authors           # Articles\n",
      "The Capital        221\n",
      "Muhabbit           187\n",
      "                   179\n",
      "Omgfin Exchange    166\n",
      "BestChange         126\n",
      "Name: Author, dtype: int64\n"
     ]
    }
   ],
   "source": [
    "print(\"Top 5 Most Publishing Authors\")\n",
    "print()\n",
    "print(\"Authors           # Articles\")\n",
    "print(medium.Author.value_counts().head())"
   ]
  },
  {
   "cell_type": "code",
   "execution_count": 6,
   "id": "1841e517",
   "metadata": {},
   "outputs": [
    {
     "name": "stdout",
     "output_type": "stream",
     "text": [
      "Top 5 Most Publishing Publications\n",
      "\n",
      "Publication                      # Articles\n",
      "Coinmonks                             703\n",
      "The Capital                           618\n",
      "DataDrivenInvestor                    377\n",
      "Geek Culture                          183\n",
      "The Covalent Alchemist Publication    180\n",
      "Name: Publication, dtype: int64\n"
     ]
    }
   ],
   "source": [
    "print(\"Top 5 Most Publishing Publications\")\n",
    "print()\n",
    "print(\"Publication                      # Articles\")\n",
    "print(medium.Publication.value_counts().head())"
   ]
  },
  {
   "cell_type": "code",
   "execution_count": 7,
   "id": "c8b516e5",
   "metadata": {},
   "outputs": [
    {
     "name": "stdout",
     "output_type": "stream",
     "text": [
      "Clap dtype:  float64\n"
     ]
    }
   ],
   "source": [
    "#Reformatting Clap Information to Floats\n",
    "# here we remove the \"K\", convert the string to float, then multiply by 1000.\n",
    "numeric_claps = []\n",
    "for x in medium.Claps:\n",
    "    if \"K\" in x:\n",
    "        numeric_claps.append(float(x[:-1])*1000)\n",
    "    else:\n",
    "        numeric_claps.append(x)\n",
    "medium[\"Claps\"] = numeric_claps\n",
    "medium[\"Claps\"] = pd.to_numeric(medium[\"Claps\"])\n",
    "print(\"Clap dtype: \", medium.dtypes[\"Claps\"])"
   ]
  },
  {
   "cell_type": "code",
   "execution_count": 8,
   "id": "0b682707",
   "metadata": {},
   "outputs": [],
   "source": [
    "#functions to print data as formated lists\n",
    "def print_list(data, metric):\n",
    "    dash = '-' * 100\n",
    "    for i in range(len(data)):\n",
    "        if i == 0:\n",
    "            print(dash)\n",
    "            print('{:<8s}{:<7s}{:^25s}{:^12s}'.format(\"Rank\",metric,\"Author\",\"Url\"))\n",
    "            print(dash)\n",
    "        auth = data.index[i]\n",
    "        link = medium[medium.Author==auth].Author_url.values[0]\n",
    "        link = link.split(\"?\")[0]\n",
    "        print('{:<8d}{:<10d}{:<25s}{:<20s}'.format(i+1,int(data[i]),auth, link))\n",
    "           \n",
    "               \n",
    "                    \n",
    "def print_multi_list(data, metric1, metric2):\n",
    "    dash = '-' * 100\n",
    "    header = [\"Rank\",metric1,metric2,\"Author\",\"Url\"]\n",
    "    with open('active_users.csv', 'w') as f:\n",
    "        # create the csv writer\n",
    "            writer = csv.writer(f)\n",
    "            writer.writerow(header)\n",
    "            for i in range(len(data)):\n",
    "                if i == 0:\n",
    "                    print(dash)\n",
    "                    print('{:<8s}{:<12s}{:<7s}{:^25s}{:^12s}'.format(\"Rank\",metric1,metric2,\"Author\",\"Url\"))\n",
    "                    print(dash)\n",
    "                auth = data.index[i]\n",
    "                link = medium[medium.Author==auth].Author_url.values[0]\n",
    "                link = link.split(\"?\")[0]\n",
    "                print('{:<8d}{:<12d}{:<10d}{:<25s}{:<20s}'.format(i+1,int(data.iloc[i][0]),int(data.iloc[i][1]),auth, link))  \n",
    "                row = [i+1,int(data.iloc[i][0]),int(data.iloc[i][1]),auth, link]\n",
    "                writer.writerow(row) \n",
    "    f.close()\n",
    "    "
   ]
  },
  {
   "cell_type": "markdown",
   "id": "c692513b",
   "metadata": {},
   "source": [
    "## Most clapped authors"
   ]
  },
  {
   "cell_type": "code",
   "execution_count": 9,
   "id": "079ca078",
   "metadata": {},
   "outputs": [
    {
     "name": "stdout",
     "output_type": "stream",
     "text": [
      "Most Clapped Authors\n",
      "\n",
      "----------------------------------------------------------------------------------------------------\n",
      "Rank    # Claps         Author              Url     \n",
      "----------------------------------------------------------------------------------------------------\n",
      "1       393000    Ruugle                   https://medium.com/@ruugle.io\n",
      "2       242000    Safe DeFi                https://medium.com/@safedefi.xyz\n",
      "3       188402    LOCGame                  https://medium.com/@locgame\n",
      "4       156000    NFT QR                   https://medium.com/@nftqr\n",
      "5       123400    Beyond Protocol          https://medium.com/@beyondprotocol\n",
      "6       120224    Mr. Whale                https://medium.com/@cryptowhale\n",
      "7       103000    Quantum Moon             https://medium.com/@quantummoon.space\n",
      "8       86342     Insured Finance          https://medium.com/@insuredfinance\n",
      "9       74644     Fanspel                  https://medium.com/@fanspel\n",
      "10      68800     NFT Tech                 https://medium.com/@nfttech\n"
     ]
    }
   ],
   "source": [
    "temp = medium.copy()\n",
    "#creates a row that we will sum to get total articles by each author\n",
    "temp[\"count\"] = 1\n",
    "auths_arts = temp.groupby(\"Author\").sum()\n",
    "total_claps = auths_arts[\"Claps\"]\n",
    "total_claps = np.flip(total_claps.sort_values(ascending=True)[-10:], axis=0)\n",
    "\n",
    "print(\"Most Clapped Authors\")\n",
    "print()\n",
    "print_list(total_claps, \"# Claps\")"
   ]
  },
  {
   "cell_type": "code",
   "execution_count": 10,
   "id": "ba1f9f9f",
   "metadata": {},
   "outputs": [],
   "source": [
    "auths_arts[\"CA_Ratio\"] = auths_arts['Claps']/auths_arts[\"count\"]\n",
    "CA = auths_arts.sort_values(\"CA_Ratio\", ascending=False)[[\"CA_Ratio\", \"count\"]]"
   ]
  },
  {
   "cell_type": "markdown",
   "id": "2b848ca5",
   "metadata": {},
   "source": [
    "### Top 100 authors who have posted atleast one story a month for the part three months sorted by highest  clap per article"
   ]
  },
  {
   "cell_type": "code",
   "execution_count": 11,
   "id": "8ad9ff77",
   "metadata": {},
   "outputs": [],
   "source": [
    "#function to print top 100 articles \n",
    "def print_top100(df):\n",
    "    temp = df.copy()\n",
    "    #creates a row that we will sum to get total articles by each author\n",
    "    temp[\"count\"] = 1\n",
    "    auths_arts = temp.groupby(\"Author\").sum()\n",
    "    \n",
    "    auths_arts[\"CA_Ratio\"] = auths_arts['Claps']/auths_arts[\"count\"]\n",
    "    CA = auths_arts.sort_values(\"CA_Ratio\", ascending=False)[[\"CA_Ratio\", \"count\"]]\n",
    "\n",
    "    print(\"Top 100 Consistent Authors with Highest Claps per Article\")\n",
    "    print()\n",
    "    print_multi_list(CA[:100],\"Claps/Art\", \"# Articles\")\n",
    "    return None\n"
   ]
  },
  {
   "cell_type": "code",
   "execution_count": 12,
   "id": "4342e29e",
   "metadata": {},
   "outputs": [
    {
     "name": "stdout",
     "output_type": "stream",
     "text": [
      "All Authors:  12043\n",
      "Number of Consistent Authors:  528\n"
     ]
    }
   ],
   "source": [
    "def consistent(df):\n",
    "    #Checks if the author wrote a story in June, July, and August.\n",
    "    months = [6,7,8]\n",
    "    check1 = int((df.Month==6).any())\n",
    "    check2 = int((df.Month==7).any())\n",
    "    check3 = int((df.Month==8).any())\n",
    "    if check1 + check2 + check3 == 3:\n",
    "        return True\n",
    "    else: \n",
    "        return False\n",
    "            \n",
    "result = medium.groupby(\"Author\").apply(consistent)\n",
    "\n",
    "consistent_authors = result[result==True].index\n",
    "\n",
    "ds_consistent = medium[medium.Author.isin(consistent_authors)]\n",
    "print(\"All Authors: \", medium.Author.value_counts().shape[0])\n",
    "print(\"Number of Consistent Authors: \", consistent_authors.shape[0])"
   ]
  },
  {
   "cell_type": "code",
   "execution_count": 13,
   "id": "87ecd626",
   "metadata": {
    "scrolled": true
   },
   "outputs": [
    {
     "name": "stdout",
     "output_type": "stream",
     "text": [
      "Top 100 Consistent Authors with Highest Claps per Article\n",
      "\n",
      "----------------------------------------------------------------------------------------------------\n",
      "Rank    Claps/Art   # Articles         Author              Url     \n",
      "----------------------------------------------------------------------------------------------------\n",
      "1       7538        5         Cherry                   https://medium.com/@cherryproject\n",
      "2       6223        7         Uniarts Network          https://medium.com/@uniartsnetwork\n",
      "3       4974        7         Unirealchain             https://medium.com/@unirealchain\n",
      "4       4633        6         PrivacySwap              https://medium.com/@privacyswap\n",
      "5       3925        48        LOCGame                  https://medium.com/@locgame\n",
      "6       3851        16        YAY.games                https://medium.com/@yay-games\n",
      "7       2404        50        Mr. Whale                https://medium.com/@cryptowhale\n",
      "8       2100        26        PowerKee                 https://medium.com/@powerkee\n",
      "9       2037        29        Insuredao team           https://medium.com/@insuredao_team\n",
      "10      1725        9         MrWeb Finance            https://medium.com/@mrwebfi\n",
      "11      1660        52        Insured Finance          https://medium.com/@insuredfinance\n",
      "12      1634        10        DOM Chain                https://medium.com/@domchainofficial\n",
      "13      1587        8         Abhimanyu Bhargava       https://medium.com/@abhimanyubhargava\n",
      "14      1531        32        Impossible Finance       https://medium.com/@impossiblefinance\n",
      "15      1514        7         Libonomy                 https://medium.com/@libonomy\n",
      "16      1473        31        Theta Labs               https://medium.com/@thetalabs\n",
      "17      1383        9         Bitspawn Protocol        https://medium.com/@bitspawnprotocol\n",
      "18      1356        10        AnyPad                   https://medium.com/@anypadio\n",
      "19      1343        15        Contributor              https://medium.com/@davidfreuden\n",
      "20      1233        20        Porta Network            https://medium.com/@portanetwork\n",
      "21      1213        30        Matrix AI Network        https://medium.com/@matrixainetwork\n",
      "22      1166        10        SynFutures               https://medium.com/@synfutures\n",
      "23      1155        52        Isaiah McCall            https://medium.com/@mccallisaiah\n",
      "24      1101        25        My Defi Pet Official     https://medium.com/@mydefipet\n",
      "25      1053        34        Lou Kerner               https://medium.com/@loukerner\n",
      "26      1013        15        Matthew Liu              https://blog.originprotocol.com/@matthewliu\n",
      "27      997         22        Formation.Fi             https://medium.com/@formation-fi\n",
      "28      919         21        DINOX                    https://medium.com/@dinoxproject\n",
      "29      916         54        dotmoovs                 https://medium.com/@dotmoovs\n",
      "30      907         8         Mars Ecosystem           https://medium.com/@mars-ecosystem\n",
      "31      865         7         Mars Panda World         https://medium.com/@marspandaworld\n",
      "32      857         7         My bu                    https://medium.com/@myobu\n",
      "33      843         9         Jennycharles             https://medium.com/@jennycharles633\n",
      "34      816         8         Corey Costa- Aergo/Catenahttps://medium.com/@coreycosta\n",
      "35      809         7         Shaz Khan                https://medium.com/@shrew\n",
      "36      777         3         DAMIAN                   https://medium.com/@linchpinremainstheboss\n",
      "37      775         14        The Crypto Lifestyle     https://medium.com/@thecryptolifestyle\n",
      "38      748         15        XP.network               https://blog.xp.network/@xpnetwork\n",
      "39      733         36        Chainge Finance          https://medium.com/@chainge-finance\n",
      "40      710         14        Bassey Saviour           https://medium.com/@basseysaviour\n",
      "41      685         16        Nworuprecious            https://medium.com/@nworuprecious56\n",
      "42      657         9         Cirus Foundation         https://medium.com/@cirusfoundation\n",
      "43      600         18        Shyft Network            https://medium.com/@shyftnetwork\n",
      "44      576         29        Pinknode                 https://medium.com/@pinknode\n",
      "45      549         10        META Coin                https://medium.com/@META1.COIN\n",
      "46      533         57        Lukas Moore              https://medium.com/@lukasmoore1\n",
      "47      525         19        BLOCK.CO                 https://medium.com/@blockdotco\n",
      "48      525         60        The Sandbox              https://medium.com/@sandboxgame\n",
      "49      518         11        Tom Handy                https://medium.com/@tomhandy1\n",
      "50      505         3         HiFi Gaming Society      https://medium.com/@hifigamingsociety\n",
      "51      499         11        Rainbow                  https://medium.com/@tinannajiobianuju\n",
      "52      496         6         Max Unger                https://blog.originprotocol.com/@Max_Origin\n",
      "53      484         4         Openware                 https://medium.com/@openware\n",
      "54      472         49        Frederick Irwin          https://medium.com/@frederickirwin\n",
      "55      459         23        Flux Official            https://medium.com/@fluxofficial\n",
      "56      459         36        DFINITY                  https://medium.com/@dfinity\n",
      "57      457         10        Demodyfi                 https://medium.com/@demodyfi\n",
      "58      419         9         Sushi                    https://medium.com/@sushichef\n",
      "59      398         29        Adria Parcerisas Alb s   https://medium.com/@annaparcerisas\n",
      "60      374         16        Alexandre Lores          https://medium.datadriveninvestor.com/@alexandre-lores1984\n",
      "61      363         43        Omer KEMAN               https://medium.com/@omerkeman\n",
      "62      362         8         Decubate.com             https://medium.com/@decubate\n",
      "63      353         8         Ambrosus                 https://blog.ambrosus.io/@ambrosusecosystem\n",
      "64      352         4         Wharf Street Strategies  https://medium.com/@wharfstreetstrategies\n",
      "65      349         8         Ethernity Chain          https://medium.com/@ethernitychain\n",
      "66      344         18        Aniel Essien             https://medium.com/@anieljoshua94\n",
      "67      335         14        Michael Burgess          https://medium.com/@RenOps\n",
      "68      331         15        JAUME PUIG GINESTA       https://medium.com/@jpginestaa\n",
      "69      329         15        LockTrip.comLOC Token) Official Bloghttps://medium.com/@locktrip\n",
      "70      319         8         Kurisu                   https://medium.com/@99kurisu\n",
      "71      319         87        COTI                     https://medium.com/@cotinetwork\n",
      "72      317         79        Seascape Network         https://medium.com/@seascapenetwork\n",
      "73      312         5         POP!                     https://medium.com/@poptownplatform\n",
      "74      312         12        MatrixETF                https://medium.com/@matrixetf\n",
      "75      305         13        Richard Knight           https://medium.datadriveninvestor.com/@altcoininvestor\n",
      "76      298         44        Panther Protocol         https://blog.pantherprotocol.io/@panther-protocol\n",
      "77      291         13        REVV                     https://medium.com/@revv-token\n",
      "78      289         15        Polkally                 https://medium.com/@polkally\n",
      "79      288         5         DeFIRE                   https://medium.com/@DeFire1\n",
      "80      287         15        Horizen                  https://medium.com/@Horizen\n",
      "81      282         33        Tom Holland              https://medium.com/@tom-holland\n",
      "82      281         13        Balanced                 https://medium.com/@balanceddao\n",
      "83      276         22        GAMEE                    https://medium.com/@gamee\n",
      "84      276         4         Citrus-tech              https://medium.com/@citrus-tech\n",
      "85      269         16        EmiSwap                  https://medium.com/@emiswap\n",
      "86      269         12        Polkacity                https://medium.com/@polkacity\n",
      "87      263         32        Star Atlas               https://medium.com/@staratlasgame\n",
      "88      261         49        SINOVATE                 https://medium.com/@sinovate\n",
      "89      258         33        Blockchain.com           https://medium.com/@blockchain\n",
      "90      247         25        NFT Stars                https://medium.com/@nft-stars\n",
      "91      246         10        Verasity                 https://medium.com/@VRATech\n",
      "92      244         23        Xion Finance             https://medium.com/@xionglobal\n",
      "93      240         8         Step Finance             https://medium.com/@stepfinance\n"
     ]
    },
    {
     "name": "stdout",
     "output_type": "stream",
     "text": [
      "94      238         19        PlayDapp Team            https://medium.com/@playdapp\n",
      "95      233         11        Jew Coin                 https://medium.com/@jewcoin\n",
      "96      230         64        Apron Network            https://medium.com/@apron-network\n",
      "97      228         24        My Neighbor Alice        https://medium.com/@myneighboralice\n",
      "98      223         17        GAUGECASH                https://medium.com/@gaugecash\n",
      "99      223         6         Constellation Marketing  https://medium.com/@Constellation_Marketing\n",
      "100     220         15        PlutosNetwork            https://medium.com/@plutosnetwork\n"
     ]
    }
   ],
   "source": [
    "#top 100 consistent authors\n",
    "print_top100(ds_consistent)"
   ]
  },
  {
   "cell_type": "code",
   "execution_count": null,
   "id": "b35e5c88",
   "metadata": {},
   "outputs": [],
   "source": []
  },
  {
   "cell_type": "code",
   "execution_count": null,
   "id": "5e9ef5f9",
   "metadata": {},
   "outputs": [],
   "source": []
  },
  {
   "cell_type": "code",
   "execution_count": null,
   "id": "9504bfcc",
   "metadata": {},
   "outputs": [],
   "source": []
  },
  {
   "cell_type": "code",
   "execution_count": null,
   "id": "3785f863",
   "metadata": {},
   "outputs": [],
   "source": []
  },
  {
   "cell_type": "code",
   "execution_count": null,
   "id": "2c94fcb1",
   "metadata": {},
   "outputs": [],
   "source": []
  },
  {
   "cell_type": "code",
   "execution_count": null,
   "id": "f43a7129",
   "metadata": {},
   "outputs": [],
   "source": []
  },
  {
   "cell_type": "code",
   "execution_count": null,
   "id": "4081533e",
   "metadata": {},
   "outputs": [],
   "source": []
  },
  {
   "cell_type": "code",
   "execution_count": null,
   "id": "e805d3a4",
   "metadata": {},
   "outputs": [],
   "source": []
  },
  {
   "cell_type": "code",
   "execution_count": null,
   "id": "915a506f",
   "metadata": {},
   "outputs": [],
   "source": []
  },
  {
   "cell_type": "code",
   "execution_count": null,
   "id": "b2b0bd00",
   "metadata": {},
   "outputs": [],
   "source": []
  },
  {
   "cell_type": "code",
   "execution_count": null,
   "id": "733d85d6",
   "metadata": {},
   "outputs": [],
   "source": []
  },
  {
   "cell_type": "code",
   "execution_count": null,
   "id": "10f905d0",
   "metadata": {},
   "outputs": [],
   "source": []
  },
  {
   "cell_type": "code",
   "execution_count": null,
   "id": "9c070fb1",
   "metadata": {},
   "outputs": [],
   "source": []
  },
  {
   "cell_type": "code",
   "execution_count": null,
   "id": "4c48c5e8",
   "metadata": {},
   "outputs": [],
   "source": []
  }
 ],
 "metadata": {
  "kernelspec": {
   "display_name": "Python 3",
   "language": "python",
   "name": "python3"
  },
  "language_info": {
   "codemirror_mode": {
    "name": "ipython",
    "version": 3
   },
   "file_extension": ".py",
   "mimetype": "text/x-python",
   "name": "python",
   "nbconvert_exporter": "python",
   "pygments_lexer": "ipython3",
   "version": "3.8.8"
  }
 },
 "nbformat": 4,
 "nbformat_minor": 5
}
